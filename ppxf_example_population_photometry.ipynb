{
 "cells": [
  {
   "cell_type": "markdown",
   "metadata": {
    "pycharm": {
     "name": "#%% md\n"
    },
    "tags": []
   },
   "source": [
    "# pPXF: Fitting both photometry and spectra\n",
    "\n",
    "Usage example for the procedure pPXF originally described in [Cappellari & Emsellem (2004)](http://adsabs.harvard.edu/abs/2004PASP..116..138C) and substantially upgraded in [Cappellari (2017)](http://adsabs.harvard.edu/abs/2017MNRAS.466..798C).\n",
    "\n",
    "V1.0.0: Michele Cappellari, Oxford, 29 March 2022: Created\n",
    "V1.1.0: MC, Oxford, 10 June 2022: Use new `util.synthetic_photometry`\n",
    "\n",
    "\n",
    "![pPXF](https://www-astro.physics.ox.ac.uk/~cappellari/software/ppxf_logo.svg)\n"
   ]
  },
  {
   "cell_type": "code",
   "execution_count": 2,
   "metadata": {
    "pycharm": {
     "name": "#%%\n"
    }
   },
   "outputs": [],
   "source": [
    "from os import path\n",
    "\n",
    "import numpy as np\n",
    "import matplotlib.pyplot as plt\n",
    "from astropy.io import fits\n",
    "\n",
    "from ppxf.ppxf import ppxf\n",
    "import ppxf.ppxf_util as util\n",
    "import ppxf.miles_util as lib\n",
    "\n",
    "ppxf_dir = path.dirname(path.realpath(lib.__file__))\n",
    "\n",
    "add_noise = True\n",
    "phot_fit = True"
   ]
  },
  {
   "cell_type": "markdown",
   "metadata": {
    "pycharm": {
     "name": "#%% md\n"
    }
   },
   "source": [
    "## Read the observed galaxy spectrum\n",
    "\n",
    "Read SDSS DR8 galaxy spectrum taken from here http://www.sdss3.org/dr8/\n",
    "The spectrum is *already* log rebinned by the SDSS DR8 pipeline and log_rebin should not be used in this case."
   ]
  },
  {
   "cell_type": "code",
   "execution_count": 3,
   "metadata": {
    "pycharm": {
     "name": "#%%\n"
    }
   },
   "outputs": [],
   "source": [
    "file = ppxf_dir + '/spectra/NGC3073_SDSS_DR8.fits'\n",
    "hdu = fits.open(file)\n",
    "t = hdu[1].data\n",
    "z = float(hdu[1].header[\"Z\"]) # SDSS redshift estimate"
   ]
  },
  {
   "cell_type": "markdown",
   "metadata": {
    "pycharm": {
     "name": "#%% md\n"
    }
   },
   "source": [
    "Only use the wavelength range in common between galaxy and stellar library"
   ]
  },
  {
   "cell_type": "code",
   "execution_count": 4,
   "metadata": {
    "pycharm": {
     "name": "#%%\n"
    }
   },
   "outputs": [],
   "source": [
    "flux = t['flux']\n",
    "galaxy = flux/np.median(flux)   # Normalize spectrum to avoid numerical issues\n",
    "wave = t['wavelength']"
   ]
  },
  {
   "cell_type": "markdown",
   "metadata": {
    "pycharm": {
     "name": "#%% md\n"
    }
   },
   "source": [
    "The SDSS wavelengths are in vacuum, while the MILES ones are in air. For a rigorous treatment, the SDSS vacuum wavelengths should be converted into air wavelengths and the spectra should be resampled. To avoid resampling, given that the wavelength dependence of the correction is very weak, I approximate it with a constant factor."
   ]
  },
  {
   "cell_type": "code",
   "execution_count": 5,
   "metadata": {
    "pycharm": {
     "name": "#%%\n"
    }
   },
   "outputs": [],
   "source": [
    "wave *= np.median(util.vac_to_air(wave)/wave)\n",
    "rms = 0.019  # rms scatter of the spectrum residuals\n",
    "goodpixels = np.arange(galaxy.size)  # fit full spectrum"
   ]
  },
  {
   "cell_type": "markdown",
   "metadata": {
    "pycharm": {
     "name": "#%% md\n"
    }
   },
   "source": [
    "In a real situation one does not know the galaxy spectrum outside the fitted range. However, in this example I pass the full galaxy spectrum to pPXF even tough fit only a limited range of goodpixels. In this way I can see directly how well the extrapolated best fit reproduces the true galaxy spectrum outside the fitted range.\n"
   ]
  },
  {
   "cell_type": "code",
   "execution_count": 6,
   "metadata": {
    "pycharm": {
     "name": "#%%\n"
    }
   },
   "outputs": [],
   "source": [
    "if add_noise:\n",
    "    goodpixels = np.arange(1000, 1500)  # Select Hbeta + Mgb\n",
    "    rms = 0.05     # rms scatter of the spectrum residuals\n",
    "    np.random.seed(8)  # fixed seed for reproduciible results\n",
    "    galaxy = np.random.normal(galaxy, rms)"
   ]
  },
  {
   "cell_type": "code",
   "execution_count": 7,
   "metadata": {
    "pycharm": {
     "name": "#%%\n"
    }
   },
   "outputs": [],
   "source": [
    "noise = np.full_like(galaxy, rms)"
   ]
  },
  {
   "cell_type": "markdown",
   "metadata": {
    "pycharm": {
     "name": "#%% md\n"
    }
   },
   "source": [
    "Estimate the wavelength fitted range in the rest frame.\n",
    "This is used to select the gas templates falling in the fitted range"
   ]
  },
  {
   "cell_type": "code",
   "execution_count": 8,
   "metadata": {
    "pycharm": {
     "name": "#%%\n"
    }
   },
   "outputs": [],
   "source": [
    "wave_good = wave[goodpixels]\n",
    "lam_range_gal = np.array([np.min(wave_good), np.max(wave_good)])/(1 + z)"
   ]
  },
  {
   "cell_type": "markdown",
   "metadata": {
    "pycharm": {
     "name": "#%% md\n"
    }
   },
   "source": [
    "## Observed galaxy photometric fluxes\n",
    "\n",
    "Mean galaxy fluxes in the photometric bands `[NUV, u, g, r, i, z, J, H, K]`.\n",
    "They are normalized like the galaxy spectrum"
   ]
  },
  {
   "cell_type": "code",
   "execution_count": 9,
   "metadata": {
    "pycharm": {
     "name": "#%%\n"
    }
   },
   "outputs": [],
   "source": [
    "phot_galaxy = np.array([0.505, 0.688, 1.14, 0.967, 0.826, 0.698, 0.499, 0.341, 0.164])   # fluxes\n",
    "phot_noise = phot_galaxy*0.01   # 1sigma uncertainties"
   ]
  },
  {
   "cell_type": "markdown",
   "metadata": {
    "pycharm": {
     "name": "#%% md\n"
    }
   },
   "source": [
    "## Setup spectral templates\n",
    "\n",
    "The velocity step was already chosen by the SDSS pipeline and I convert it below to km/s"
   ]
  },
  {
   "cell_type": "code",
   "execution_count": 10,
   "metadata": {
    "pycharm": {
     "name": "#%%\n"
    }
   },
   "outputs": [],
   "source": [
    "c = 299792.458  # speed of light in km/s\n",
    "velscale = c*np.log(wave[1]/wave[0])  # eq.(8) of Cappellari (2017)\n",
    "FWHM_gal = 2.76  # SDSS has an approximate instrumental resolution FWHM of 2.76A."
   ]
  },
  {
   "cell_type": "markdown",
   "metadata": {
    "pycharm": {
     "name": "#%% md\n"
    }
   },
   "source": [
    "The templates are normalized to the V-band using norm_range. In this way the weights returned by pPXF represent V-band light fractions of each SSP."
   ]
  },
  {
   "cell_type": "code",
   "execution_count": 11,
   "metadata": {
    "pycharm": {
     "name": "#%%\n"
    }
   },
   "outputs": [],
   "source": [
    "pathname = ppxf_dir + '/miles_models/Eun1.30*.fits'\n",
    "miles = lib.miles(pathname, velscale, FWHM_gal, norm_range=[5070, 5950])"
   ]
  },
  {
   "cell_type": "markdown",
   "metadata": {
    "pycharm": {
     "name": "#%% md\n"
    }
   },
   "source": [
    "The stellar templates are reshaped below into a 2-dim array with each spectrum as a column, however we save the original array dimensions, which are needed to specify the regularization dimensions"
   ]
  },
  {
   "cell_type": "code",
   "execution_count": 12,
   "metadata": {
    "pycharm": {
     "name": "#%%\n"
    }
   },
   "outputs": [],
   "source": [
    "reg_dim = miles.templates.shape[1:]\n",
    "stars_templates = miles.templates.reshape(miles.templates.shape[0], -1)"
   ]
  },
  {
   "cell_type": "markdown",
   "metadata": {
    "pycharm": {
     "name": "#%% md\n"
    }
   },
   "source": [
    "Construct a set of Gaussian emission line templates.\n",
    "\n",
    "The `emission_lines` function defines the most common lines, but additional lines can be included by editing the function in the file `ppxf_util.py`."
   ]
  },
  {
   "cell_type": "code",
   "execution_count": 13,
   "metadata": {
    "pycharm": {
     "name": "#%%\n"
    }
   },
   "outputs": [
    {
     "name": "stdout",
     "output_type": "stream",
     "text": [
      "Emission lines included in gas templates:\n",
      "['Hbeta' '[OIII]5007_d']\n"
     ]
    }
   ],
   "source": [
    "gas_templates, gas_names, line_wave = util.emission_lines(\n",
    "    miles.ln_lam_temp, lam_range_gal, FWHM_gal)"
   ]
  },
  {
   "cell_type": "markdown",
   "metadata": {
    "pycharm": {
     "name": "#%% md\n"
    }
   },
   "source": [
    "Combines the stellar and gaseous templates into a single array. During the pPXF fit they will be assigned a different kinematic COMPONENT value"
   ]
  },
  {
   "cell_type": "code",
   "execution_count": 14,
   "metadata": {
    "pycharm": {
     "name": "#%%\n"
    }
   },
   "outputs": [],
   "source": [
    "templates = np.column_stack([stars_templates, gas_templates])"
   ]
  },
  {
   "cell_type": "markdown",
   "metadata": {
    "pycharm": {
     "name": "#%% md\n"
    }
   },
   "source": [
    "## Setup photometric templates"
   ]
  },
  {
   "cell_type": "code",
   "execution_count": 15,
   "metadata": {
    "pycharm": {
     "name": "#%%\n"
    }
   },
   "outputs": [],
   "source": [
    "if phot_fit:\n",
    "    bands = ['galex2500', 'SDSS/u', 'SDSS/g', 'SDSS/r', 'SDSS/i', 'SDSS/z',  '2MASS/J', '2MASS/H', '2MASS/K']\n",
    "    phot_lam, phot_templates, ok_temp = util.synthetic_photometry(\n",
    "        miles.templates, miles.lam_temp, bands, redshift=z, quiet=1)\n",
    "    phot = {\"templates\": phot_templates, \"galaxy\": phot_galaxy, \"noise\": phot_noise, \"lam\": phot_lam}\n",
    "else:\n",
    "    phot = {}"
   ]
  },
  {
   "cell_type": "markdown",
   "metadata": {
    "pycharm": {
     "name": "#%% md\n"
    }
   },
   "source": [
    "## Setup pPXF parameters"
   ]
  },
  {
   "cell_type": "code",
   "execution_count": 16,
   "metadata": {
    "pycharm": {
     "name": "#%%\n"
    }
   },
   "outputs": [],
   "source": [
    "c = 299792.458\n",
    "vel = c*np.log(1 + z)   # eq.(8) of Cappellari (2017)\n",
    "start = [vel, 180.]     # (km/s), starting guess for [V, sigma]"
   ]
  },
  {
   "cell_type": "markdown",
   "metadata": {
    "pycharm": {
     "name": "#%% md\n"
    }
   },
   "source": [
    "I fit two kinematics components, one for the stars and one for the gas. Assign `component=0` to the stellar templates, `component=1` to the gas."
   ]
  },
  {
   "cell_type": "code",
   "execution_count": 17,
   "metadata": {
    "pycharm": {
     "name": "#%%\n"
    }
   },
   "outputs": [],
   "source": [
    "n_stars = stars_templates.shape[1]\n",
    "n_gas = len(gas_names)\n",
    "component = [0]*n_stars + [1]*n_gas\n",
    "gas_component = np.array(component) > 0  # gas_component=True for gas templates"
   ]
  },
  {
   "cell_type": "markdown",
   "metadata": {
    "pycharm": {
     "name": "#%% md\n"
    }
   },
   "source": [
    "Fit (V, sig) moments=2 for both the stars and the gas"
   ]
  },
  {
   "cell_type": "code",
   "execution_count": 18,
   "metadata": {
    "pycharm": {
     "name": "#%%\n"
    }
   },
   "outputs": [],
   "source": [
    "moments = [2, 2]"
   ]
  },
  {
   "cell_type": "markdown",
   "metadata": {
    "pycharm": {
     "name": "#%% md\n"
    }
   },
   "source": [
    "Adopt the same starting value for both the stars and the gas components"
   ]
  },
  {
   "cell_type": "code",
   "execution_count": 19,
   "metadata": {
    "pycharm": {
     "name": "#%%\n"
    }
   },
   "outputs": [],
   "source": [
    "start = [start, start]"
   ]
  },
  {
   "cell_type": "markdown",
   "metadata": {
    "pycharm": {
     "name": "#%% md\n"
    }
   },
   "source": [
    "## Start pPXF fit"
   ]
  },
  {
   "cell_type": "code",
   "execution_count": 20,
   "metadata": {
    "pycharm": {
     "name": "#%%\n"
    }
   },
   "outputs": [
    {
     "name": "stdout",
     "output_type": "stream",
     "text": [
      " Best Fit:       Vel     sigma\n",
      " comp.  0:      1162        46\n",
      " comp.  1:      1149         1\n",
      "Stars Reddening E(B-V): 0.141\n",
      "chi2/DOF: 1.170; DOF: 495; degree = -1; mdegree = 0\n",
      "Photometry chi2/n_bands: 0.8991; n_bands: 9\n",
      "method = capfit; Jac calls: 7; Func calls: 45; Status: 2\n",
      "linear_method = lsq_box; Nonzero Templates (>0.1%): 84/152\n",
      "+++++++++++++++++++++++++++++++++++++++++++++++++++++++++++++++++\n",
      "gas_component           name        flux       err      V     sig\n",
      "+++++++++++++++++++++++++++++++++++++++++++++++++++++++++++++++++\n",
      "Comp:  1                 Hbeta      1.166     0.098    1149     1\n",
      "Comp:  1          [OIII]5007_d      1.239      0.12    1149     1\n",
      "-----------------------------------------------------------------\n"
     ]
    }
   ],
   "source": [
    "pp = ppxf(templates, galaxy, noise, velscale, start,\n",
    "          moments=moments, degree=-1, mdegree=-1, lam=wave, lam_temp=miles.lam_temp, regul=1/rms, \n",
    "          reg_dim=reg_dim, component=component, gas_component=gas_component, reddening=0, \n",
    "          gas_names=gas_names, goodpixels=goodpixels, phot=phot)"
   ]
  },
  {
   "cell_type": "code",
   "execution_count": 21,
   "metadata": {
    "pycharm": {
     "name": "#%%\n"
    }
   },
   "outputs": [],
   "source": [
    "light_weights = pp.weights[~gas_component]      # Exclude weights of the gas templates\n",
    "light_weights = light_weights.reshape(reg_dim)  # Reshape to (n_ages, n_metal)\n",
    "light_weights /= light_weights.sum()            # Normalize to light fractions"
   ]
  },
  {
   "cell_type": "markdown",
   "metadata": {
    "pycharm": {
     "name": "#%% md\n"
    }
   },
   "source": [
    "Given that the templates are normalized to the V-band, the `pPXF` weights represent V-band light fractions and the computed ages and metallicities below are also light weighted in the V-band."
   ]
  },
  {
   "cell_type": "code",
   "execution_count": 22,
   "metadata": {
    "pycharm": {
     "name": "#%%\n"
    }
   },
   "outputs": [
    {
     "name": "stdout",
     "output_type": "stream",
     "text": [
      "Weighted <lg_age> [yr]: 8.80\n",
      "Weighted <[M/H]>: -0.439\n"
     ]
    }
   ],
   "source": [
    "miles.mean_age_metal(light_weights);"
   ]
  },
  {
   "cell_type": "markdown",
   "metadata": {
    "pycharm": {
     "name": "#%% md\n"
    }
   },
   "source": [
    "For the M/L one needs to input fractional masses, not light fractions. For this, I convert light-fractions into mass-fractions using miles.flux"
   ]
  },
  {
   "cell_type": "code",
   "execution_count": 23,
   "metadata": {
    "pycharm": {
     "name": "#%%\n"
    }
   },
   "outputs": [
    {
     "name": "stdout",
     "output_type": "stream",
     "text": [
      "(M*/L)_r: 0.7832\n"
     ]
    }
   ],
   "source": [
    "mass_weights = light_weights/miles.flux\n",
    "mass_weights /= mass_weights.sum()              # Normalize to mass fractions\n",
    "miles.mass_to_light(mass_weights, band=\"r\");"
   ]
  },
  {
   "cell_type": "markdown",
   "metadata": {
    "pycharm": {
     "name": "#%% md\n"
    }
   },
   "source": [
    "## Plot fit results for stars, gas and stellar population"
   ]
  },
  {
   "cell_type": "code",
   "execution_count": 24,
   "metadata": {
    "pycharm": {
     "name": "#%%\n"
    }
   },
   "outputs": [],
   "source": [
    "#%matplotlib widget\n",
    "#%matplotlib inline"
   ]
  },
  {
   "cell_type": "code",
   "execution_count": 26,
   "outputs": [
    {
     "data": {
      "text/plain": "<Figure size 1080x360 with 1 Axes>",
      "image/png": "[encoded data removed]"
     },
     "metadata": {
      "needs_background": "light"
     },
     "output_type": "display_data"
    },
    {
     "data": {
      "text/plain": "<Figure size 720x216 with 2 Axes>",
      "image/png": "[encoded data removed]"
     },
     "metadata": {
      "needs_background": "light"
     },
     "output_type": "display_data"
    }
   ],
   "source": [
    "plt.figure(figsize=(15,5))\n",
    "pp.plot()\n",
    "\n",
    "plt.figure(figsize=(10,3))\n",
    "miles.plot(light_weights)\n",
    "plt.title(\"Light Weights Fraction\");"
   ],
   "metadata": {
    "collapsed": false,
    "pycharm": {
     "name": "#%%\n"
    }
   }
  }
 ],
 "metadata": {
  "kernelspec": {
   "display_name": "PyCharm (Python2022)",
   "language": "python",
   "name": "pycharm-e71f5e4e"
  },
  "language_info": {
   "codemirror_mode": {
    "name": "ipython",
    "version": 3
   },
   "file_extension": ".py",
   "mimetype": "text/x-python",
   "name": "python",
   "nbconvert_exporter": "python",
   "pygments_lexer": "ipython3",
   "version": "3.9.12"
  },
  "toc-autonumbering": true,
  "toc-showmarkdowntxt": false,
  "toc-showtags": false
 },
 "nbformat": 4,
 "nbformat_minor": 4
}